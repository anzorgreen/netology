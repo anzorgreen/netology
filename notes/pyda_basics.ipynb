{
  "cells": [
    {
      "cell_type": "markdown",
      "metadata": {
        "id": "edQI-m-cCgpV"
      },
      "source": [
        "# Основы Python\n",
        "\n",
        "Автор: [**Булыгин Олег**](https://olegtalks.ru/)\n",
        "* [Мой канал в ТГ по Python](https://t.me/pythontalk_ru)\n",
        "\n",
        "Ссылочки в ноутбуке ведут на полезные доп. материалы, обязательно всё изучайте :)\n"
      ]
    },
    {
      "cell_type": "markdown",
      "metadata": {
        "id": "yeFs_dLk5YJW"
      },
      "source": [
        "## PEP\n",
        "\n",
        "PEP (python enhanced proposal — заявки на улучшение языка python). Это технические документы, в которых предлагаются новые возможности, улучшения или изменения в языке Python. PEP являются основным механизмом для предложения новых функций, сбора обратной связи от сообщества на предложения и документирования дизайна, который был принят в Python."
      ]
    },
    {
      "cell_type": "markdown",
      "metadata": {},
      "source": []
    },
    {
      "cell_type": "markdown",
      "metadata": {
        "id": "hQ_c5hAl5eNt"
      },
      "source": [
        "### PEP20 – Zen of Python\n",
        "\n",
        "Python придерживается философии, которую сформулировал Тим Петерс в 19 принципах. Её текст выдаётся интерпретатором Python по команде `import this`."
      ]
    },
    {
      "cell_type": "code",
      "execution_count": null,
      "metadata": {
        "colab": {
          "base_uri": "https://localhost:8080/"
        },
        "id": "ANmgIu_25FK9",
        "outputId": "184898fb-75f4-40c7-def4-26a247ba4ed1"
      },
      "outputs": [
        {
          "name": "stdout",
          "output_type": "stream",
          "text": [
            "The Zen of Python, by Tim Peters\n",
            "\n",
            "Beautiful is better than ugly.\n",
            "Explicit is better than implicit.\n",
            "Simple is better than complex.\n",
            "Complex is better than complicated.\n",
            "Flat is better than nested.\n",
            "Sparse is better than dense.\n",
            "Readability counts.\n",
            "Special cases aren't special enough to break the rules.\n",
            "Although practicality beats purity.\n",
            "Errors should never pass silently.\n",
            "Unless explicitly silenced.\n",
            "In the face of ambiguity, refuse the temptation to guess.\n",
            "There should be one-- and preferably only one --obvious way to do it.\n",
            "Although that way may not be obvious at first unless you're Dutch.\n",
            "Now is better than never.\n",
            "Although never is often better than *right* now.\n",
            "If the implementation is hard to explain, it's a bad idea.\n",
            "If the implementation is easy to explain, it may be a good idea.\n",
            "Namespaces are one honking great idea -- let's do more of those!\n"
          ]
        }
      ],
      "source": [
        "import this"
      ]
    },
    {
      "cell_type": "markdown",
      "metadata": {
        "id": "9G-RZWKR5t71"
      },
      "source": [
        "### PEP8\n",
        "\n",
        "PEP8 – соглашение о том, как писать код для языка python.\n",
        "Ключевая идея такова: код читается намного больше раз, чем пишется. Собственно, рекомендации о стиле написания кода направлены на то, чтобы улучшить читаемость кода и сделать его согласованным между большим числом проектов. В идеале, весь код будет написан в едином стиле, и любой сможет легко его прочесть.\n",
        "\n",
        "[Здесь](https://pythonworld.ru/osnovy/pep-8-rukovodstvo-po-napisaniyu-koda-na-python.html) есть перевод на русский.\n",
        "\n"
      ]
    },
    {
      "cell_type": "markdown",
      "metadata": {
        "id": "jTSs3_pPQY3d"
      },
      "source": [
        "## Дополнительная информация об [операторах присваивания](https://t.me/pythontalk_ru/2400)"
      ]
    },
    {
      "cell_type": "markdown",
      "metadata": {
        "id": "pImob1B0YwSt"
      },
      "source": [
        "### Сокращённая запись операторов присваивания"
      ]
    },
    {
      "cell_type": "code",
      "execution_count": null,
      "metadata": {
        "id": "nSHPr9DOQX9f"
      },
      "outputs": [],
      "source": [
        "x = 2"
      ]
    },
    {
      "cell_type": "code",
      "execution_count": null,
      "metadata": {
        "colab": {
          "base_uri": "https://localhost:8080/"
        },
        "id": "PpbisCtMT-Bp",
        "outputId": "37c26501-4d10-486b-adae-a2ed591e844b"
      },
      "outputs": [
        {
          "name": "stdout",
          "output_type": "stream",
          "text": [
            "3\n",
            "2\n",
            "4\n",
            "2.0\n"
          ]
        }
      ],
      "source": [
        "# x = x + 1\n",
        "x += 1\n",
        "print(x)\n",
        "\n",
        "# x = x - 1\n",
        "x -= 1\n",
        "print(x)\n",
        "\n",
        "# x = x * 2\n",
        "x *= 2\n",
        "print(x)\n",
        "\n",
        "# x = x / 2\n",
        "x /= 2\n",
        "print(x)"
      ]
    },
    {
      "cell_type": "markdown",
      "metadata": {
        "id": "lU7i_wOgRSHm"
      },
      "source": [
        "\n",
        "### Множественное присваивание\n",
        "\n",
        "В Python существует множественное присваивание, которое позволяет присваивать значения нескольким переменным одновременно. При множественном присваивании порядок присваивания формируется слева направо. Количество значений и количество переменных справа и слева от оператора присваивания должно совпадать."
      ]
    },
    {
      "cell_type": "code",
      "execution_count": null,
      "metadata": {
        "id": "lPFRVkh9mTYi"
      },
      "outputs": [],
      "source": [
        "name = \"John\"\n",
        "pro = \"Data Scientist\"\n",
        "salary = 100000"
      ]
    },
    {
      "cell_type": "code",
      "execution_count": null,
      "metadata": {
        "colab": {
          "base_uri": "https://localhost:8080/"
        },
        "id": "P6bCFVfmRWGy",
        "outputId": "cd89d57f-6730-44ec-abaf-fb3dabb131ba"
      },
      "outputs": [
        {
          "name": "stdout",
          "output_type": "stream",
          "text": [
            "John\n",
            "Data Scientist\n",
            "100000\n"
          ]
        }
      ],
      "source": [
        "name, pro, salary = \"John\", \"Data Scientist\", 100000\n",
        "print(name)\n",
        "print(pro)\n",
        "print(salary)"
      ]
    },
    {
      "cell_type": "markdown",
      "metadata": {
        "id": "erwQla1f2Q1s"
      },
      "source": [
        "Благодаря множественному присваиванию в Python легко решается задача замены переменных местами.\n",
        "\n",
        "В других языках эта задача решается через третью переменную."
      ]
    },
    {
      "cell_type": "code",
      "execution_count": null,
      "metadata": {
        "colab": {
          "base_uri": "https://localhost:8080/"
        },
        "id": "nNGT-dkt2Q1s",
        "outputId": "0543c385-88d2-4322-d663-f2531db91ba9"
      },
      "outputs": [
        {
          "name": "stdout",
          "output_type": "stream",
          "text": [
            "4815162342 42\n"
          ]
        }
      ],
      "source": [
        "answer = 42\n",
        "code = 4815162342\n",
        "\n",
        "c = answer\n",
        "\n",
        "answer = code\n",
        "code = c\n",
        "\n",
        "print(answer, code)"
      ]
    },
    {
      "cell_type": "markdown",
      "metadata": {
        "id": "Nva22H5j2Q1t"
      },
      "source": [
        "А в Python можно так:"
      ]
    },
    {
      "cell_type": "code",
      "execution_count": null,
      "metadata": {
        "colab": {
          "base_uri": "https://localhost:8080/"
        },
        "id": "qMqqa8I82Q1t",
        "outputId": "661f78d5-6d01-4e23-a1be-450054b09edd"
      },
      "outputs": [
        {
          "name": "stdout",
          "output_type": "stream",
          "text": [
            "42 4815162342\n"
          ]
        }
      ],
      "source": [
        "answer, code = code, answer\n",
        "print(answer, code)"
      ]
    },
    {
      "cell_type": "markdown",
      "metadata": {
        "id": "kw_ODx9eycPy"
      },
      "source": [
        "## Проблема точности округления в Python\n",
        "\n",
        "Проблема точности округления в Python, как и во многих других языках программирования, связана с представлением вещественных чисел в компьютерной арифметике.\n",
        "\n",
        "Вещественные числа в Python представлены в формате двоичной десятичной дроби, что может привести к неточностям при округлении. Это происходит потому, что некоторые десятичные дроби не могут быть точно представлены как двоичные дроби."
      ]
    },
    {
      "cell_type": "code",
      "execution_count": 1,
      "metadata": {
        "colab": {
          "base_uri": "https://localhost:8080/"
        },
        "id": "G4JpMV5DzJGa",
        "outputId": "2ed747ca-bd3b-4ba3-bf7a-70c7caeeb966"
      },
      "outputs": [
        {
          "name": "stdout",
          "output_type": "stream",
          "text": [
            "True\n"
          ]
        }
      ],
      "source": [
        "print(0.15 + 0.15 == 0.3)"
      ]
    },
    {
      "cell_type": "code",
      "execution_count": null,
      "metadata": {
        "colab": {
          "base_uri": "https://localhost:8080/"
        },
        "id": "sfkv1T6QzRar",
        "outputId": "dfef2d43-e77c-4a88-a7c3-f1d913d673df"
      },
      "outputs": [
        {
          "name": "stdout",
          "output_type": "stream",
          "text": [
            "False\n"
          ]
        }
      ],
      "source": [
        "print((0.1 + 0.15 + 0.05) == (0.1 + 0.1 + 0.1))"
      ]
    },
    {
      "cell_type": "code",
      "execution_count": null,
      "metadata": {
        "colab": {
          "base_uri": "https://localhost:8080/"
        },
        "id": "O2SwVCkfzUOP",
        "outputId": "35c929ba-06aa-41b3-f969-7ee889c5d9d7"
      },
      "outputs": [
        {
          "name": "stdout",
          "output_type": "stream",
          "text": [
            "0.3\n"
          ]
        }
      ],
      "source": [
        "print(0.1 + 0.15 + 0.05)"
      ]
    },
    {
      "cell_type": "code",
      "execution_count": null,
      "metadata": {
        "colab": {
          "base_uri": "https://localhost:8080/"
        },
        "id": "BZb8oN-JzW8P",
        "outputId": "41658ba5-8550-4fdf-9fb3-49a73a6117fd"
      },
      "outputs": [
        {
          "name": "stdout",
          "output_type": "stream",
          "text": [
            "0.30000000000000004\n"
          ]
        }
      ],
      "source": [
        "print(0.1 + 0.1 + 0.1)"
      ]
    },
    {
      "cell_type": "markdown",
      "metadata": {
        "id": "LwLAzkHrzYMn"
      },
      "source": [
        "Стои избегать прямого сравнения float, если вам важна точность операций.\n",
        "\n",
        "Чтобы обойти эту проблему, можно использовать функцию `round()`, чтобы округлить результат до нужного количества знаков после запятой:\n",
        "\n",
        "\n",
        "\n"
      ]
    },
    {
      "cell_type": "code",
      "execution_count": null,
      "metadata": {
        "colab": {
          "base_uri": "https://localhost:8080/"
        },
        "id": "RoNZWZqUJg_b",
        "outputId": "641c24fa-6767-417e-a6fd-ed41f86c2d32"
      },
      "outputs": [
        {
          "name": "stdout",
          "output_type": "stream",
          "text": [
            "True\n"
          ]
        }
      ],
      "source": [
        "x = round(0.1 + 0.1 + 0.1, 2)\n",
        "y = round(0.1 + 0.15 + 0.05, 2)\n",
        "\n",
        "print(x == y)"
      ]
    },
    {
      "cell_type": "markdown",
      "metadata": {
        "id": "y1tX2BivJf62"
      },
      "source": [
        "Более подробно можете почитать про это [здесь](https://teletype.in/@pythontalk/floating_point_problem)."
      ]
    },
    {
      "cell_type": "markdown",
      "metadata": {
        "id": "PY_n-RlR54ON"
      },
      "source": [
        "## Тернарный условный оператор\n",
        "\n",
        "Тернарный оператор в условиях Python - это способ написания коротких условных выражений.\n",
        "\n",
        "Общий синтаксис тернарного оператора выглядит так:\n",
        "\n",
        "`value_if_true if condition else value_if_false`"
      ]
    },
    {
      "cell_type": "code",
      "execution_count": null,
      "metadata": {
        "colab": {
          "base_uri": "https://localhost:8080/"
        },
        "id": "D2owehr25SCh",
        "outputId": "119cde8f-bf05-4829-8b2e-18ee417729b7"
      },
      "outputs": [
        {
          "name": "stdout",
          "output_type": "stream",
          "text": [
            "Нечётное\n"
          ]
        }
      ],
      "source": [
        "# это стандартная запись\n",
        "num = 7\n",
        "\n",
        "if num % 2 == 0:\n",
        "    print(\"Чётное\")\n",
        "else:\n",
        "    print(\"Нечётное\")"
      ]
    },
    {
      "cell_type": "code",
      "execution_count": null,
      "metadata": {
        "id": "pf8KAcfm6MGE"
      },
      "outputs": [],
      "source": [
        "# а можно так\n",
        "print(\"Чётное\") if num % 2 == 0 else print(\"Нечётное\")"
      ]
    },
    {
      "cell_type": "markdown",
      "metadata": {
        "id": "8gOlTYxHKzt9"
      },
      "source": [
        "Тернарный оператор в Python очень удобен для написания коротких и простых условных выражений, но его следует использовать с осторожностью в более сложных ситуациях, чтобы не ухудшить читаемость кода."
      ]
    },
    {
      "cell_type": "markdown",
      "metadata": {
        "id": "WSA4_iabdmCb"
      },
      "source": [
        "Определим квадрант, в котором находятся координаты\n",
        "\n"
      ]
    },
    {
      "cell_type": "code",
      "execution_count": null,
      "metadata": {
        "colab": {
          "base_uri": "https://localhost:8080/"
        },
        "id": "mLNCKFmnSY5d",
        "outputId": "14741e4a-522b-49fc-bd3e-6afc62451199"
      },
      "outputs": [
        {
          "name": "stdout",
          "output_type": "stream",
          "text": [
            "Введите координату Х: 6\n",
            "Введите координату Y: 7\n",
            "I\n"
          ]
        }
      ],
      "source": [
        "x = float(input(\"Введите координату Х: \"))\n",
        "y = float(input(\"Введите координату Y: \"))\n",
        "\n",
        "if x != 0 and y != 0:\n",
        "    if x > 0 and y > 0:\n",
        "        print(\"I\")\n",
        "    elif x > 0 and y < 0:\n",
        "        print(\"IV\")\n",
        "    elif y > 0:\n",
        "        print(\"II\")\n",
        "    else:\n",
        "        print(\"III\")\n",
        "else:\n",
        "    print(\"На осях\")"
      ]
    },
    {
      "cell_type": "code",
      "execution_count": null,
      "metadata": {
        "id": "eVCdGX0FSjik"
      },
      "outputs": [],
      "source": [
        "x = float(input(\"Введите координату Х: \"))\n",
        "y = float(input(\"Введите координату Y: \"))\n",
        "\n",
        "if x != 0 and y != 0:\n",
        "    if x > 0:\n",
        "        if y > 0:\n",
        "            print(\"I\")\n",
        "        else:\n",
        "            print(\"IV\")\n",
        "    else:\n",
        "        if y > 0:\n",
        "            print(\"II\")\n",
        "        else:\n",
        "            print(\"III\")\n",
        "else:\n",
        "    print(\"На осях\")"
      ]
    },
    {
      "cell_type": "code",
      "execution_count": null,
      "metadata": {
        "id": "BsijeiFjanDd"
      },
      "outputs": [],
      "source": [
        "x = float(input(\"Введите координату Х: \"))\n",
        "y = float(input(\"Введите координату Y: \"))\n",
        "\n",
        "if x != 0 and y != 0:\n",
        "    if x > 0:\n",
        "        print(\"I\") if y > 0 else print(\"IV\")\n",
        "    else:\n",
        "        print(\"II\") if y > 0 else print(\"III\")\n",
        "else:\n",
        "    print(\"На осях\")"
      ]
    },
    {
      "cell_type": "markdown",
      "metadata": {
        "id": "mN6QdDTKObAc"
      },
      "source": [
        "## [match case](https://teletype.in/@pythontalk/match_case)"
      ]
    },
    {
      "cell_type": "markdown",
      "metadata": {
        "id": "ZSJs8hLyOagw"
      },
      "source": [
        "Начиная с версии 3.10 в Python появилась такая функциональность как pattern matching (сопоставление шаблонов). С помощью выражения match-case можно избавиться от довольно громоздких цепочек if-elif-else, например:\n",
        "\n"
      ]
    },
    {
      "cell_type": "code",
      "execution_count": null,
      "metadata": {
        "colab": {
          "base_uri": "https://localhost:8080/"
        },
        "id": "p8HMvX2iOqTT",
        "outputId": "6296d6cd-312e-47cb-8259-c9ec04513997"
      },
      "outputs": [
        {
          "name": "stdout",
          "output_type": "stream",
          "text": [
            "Привет\n"
          ]
        }
      ],
      "source": [
        "language = \"russian\"\n",
        "\n",
        "if language == \"russian\":\n",
        "    print(\"Привет\")\n",
        "elif language == \"english\":\n",
        "    print(\"Hello\")\n",
        "elif language == \"german\":\n",
        "    print(\"Hallo\")"
      ]
    },
    {
      "cell_type": "markdown",
      "metadata": {
        "id": "CRJR39eAPPFb"
      },
      "source": [
        "Проверка `language == \"something\"` повторяется многократно. И совершенно ясно, что при каждой проверке мы обращаемся к переменной `language`. Если бы можно было не повторять `language == \"something\"`, код стал бы чище и короче.\n",
        "\n",
        "Для этого можно использовать выражение match-case. Общая структура у него такая:\n",
        "\n",
        "```\n",
        "match element:\n",
        "    case pattern1:\n",
        "        # statements\n",
        "    case pattern2:\n",
        "        # statements\n",
        "    case pattern3:\n",
        "        # statements\n",
        "```\n",
        "\n",
        "В этой конструкции кода:\n",
        "\n",
        "* `match element` означает «сопоставьте элемент со следующими шаблонами»\n",
        "* затем каждое выражение `case pattern` сравнивает элемент с указанным шаблоном (это может быть, например, строка или число)\n",
        "* если шаблон соответствует элементу, выполняется соответствующий блок кода, после этого оператор match-case заканчивает свою работу.\n",
        "\n",
        "Обратите внимание, что блоки `case` имеют отступы от начала конструкции `match`. А инструкции каждого блока `case` имеют отступы от начала данного блока `case`.\n",
        "\n",
        "Причем если выражение из `match` не соответствует ни одному из шаблонов `case`, то соответственно ни один из этих блоков `case` не выполняется.\n",
        "\n",
        "\n",
        "\n"
      ]
    },
    {
      "cell_type": "markdown",
      "metadata": {
        "id": "-LGZ0cppPtSq"
      },
      "source": [
        "Наш пример можно записать так:"
      ]
    },
    {
      "cell_type": "code",
      "execution_count": null,
      "metadata": {
        "colab": {
          "base_uri": "https://localhost:8080/"
        },
        "id": "-No6ZqfYO4Mj",
        "outputId": "739f73f0-dc01-4605-d47a-fc097eea5025"
      },
      "outputs": [
        {
          "name": "stdout",
          "output_type": "stream",
          "text": [
            "Привет\n"
          ]
        }
      ],
      "source": [
        "language = \"russian\"\n",
        "\n",
        "match language:\n",
        "    case \"russian\":\n",
        "        print(\"Привет\")\n",
        "    case \"english\":\n",
        "        print(\"Hello\")\n",
        "    case \"german\":\n",
        "        print(\"Hallo\")"
      ]
    },
    {
      "cell_type": "markdown",
      "metadata": {
        "id": "vR18dv0AO_65"
      },
      "source": [
        "Во многих случаях такой вариант делает код более читаемым, избавляет его от повторений.\n",
        "\n"
      ]
    },
    {
      "cell_type": "markdown",
      "metadata": {
        "id": "9a74akiOQWnO"
      },
      "source": [
        "Если необходимо, чтобы при несовпадении значений (если ни один из шаблонов `case` не соответствует выражению `match`) выполнялись некоторые действия по умолчанию, то в этом случае применяется шаблон `_` (прочерк):\n",
        "\n"
      ]
    },
    {
      "cell_type": "code",
      "execution_count": null,
      "metadata": {
        "colab": {
          "base_uri": "https://localhost:8080/"
        },
        "id": "XdrrEFIlQa4w",
        "outputId": "131f1bfb-4ef4-4b1a-89aa-cbeb07550acd"
      },
      "outputs": [
        {
          "name": "stdout",
          "output_type": "stream",
          "text": [
            "Неизвестный язык\n"
          ]
        }
      ],
      "source": [
        "language = \"-\"\n",
        "match language:\n",
        "    case \"russian\":\n",
        "        print(\"Привет\")\n",
        "    case \"english\":\n",
        "        print(\"Hello\")\n",
        "    case \"german\":\n",
        "        print(\"Hallo\")\n",
        "    case _:\n",
        "        print(\"Неизвестный язык\")"
      ]
    },
    {
      "cell_type": "markdown",
      "metadata": {
        "id": "drFxur6KQf3B"
      },
      "source": [
        "Также можно определить блок case, который позволяет сравнивать сразу с несколькими знечениями. В этом случае значения разделяются вертикальной чертой (ИЛИ):\n",
        "\n"
      ]
    },
    {
      "cell_type": "code",
      "execution_count": null,
      "metadata": {
        "colab": {
          "base_uri": "https://localhost:8080/"
        },
        "id": "KmVk2CiaRCGl",
        "outputId": "b46a2051-6ac1-4acb-a645-49707f4fc01f"
      },
      "outputs": [
        {
          "name": "stdout",
          "output_type": "stream",
          "text": [
            "Hello\n"
          ]
        }
      ],
      "source": [
        "language = \"english\"\n",
        "match language:\n",
        "    case \"russian\":\n",
        "        print(\"Привет\")\n",
        "    case \"british english\" | \"american english\" | \"english\":\n",
        "    # elif language == \"english\" or language == \"american english\" or language == \"british english\":\n",
        "        print(\"Hello\")\n",
        "    case \"german\":\n",
        "        print(\"Hallo\")\n",
        "    case _:\n",
        "        print(\"Неизвестный язык\")"
      ]
    },
    {
      "cell_type": "markdown",
      "metadata": {
        "id": "HskSJH7qwPDv"
      },
      "source": [
        "## Регулярные выражения\n",
        "Регулярные выражения (Regular Expressions, regex) — это формальный язык, основанный на использовании метасимволов, который применяется для работы с подстроками в тексте.\n",
        "\n",
        "Регулярные выражения позволяют создавать сложные правила поиска, валидации, замены в текстовых данных.\n",
        "\n",
        "Одна из особенностей регулярных выражений в их универсальности, стоит вам выучить синтаксис, и вы сможете применять их в любом (почти) языке программирования (JavaScript, Java, VB, C #, C / C++, Python, Perl, Ruby, Delphi, R, Tcl, и многих других). Небольшие отличия касаются только наиболее продвинутых функций и версий синтаксиса, поддерживаемых движком."
      ]
    },
    {
      "cell_type": "markdown",
      "metadata": {
        "id": "bmNLm5bMwPDw"
      },
      "source": [
        ">Если у вас есть проблема, и вы собираетесь ее решать с помощью регулярных выражений, тогда у вас будет уже две проблемы.\n",
        "\n",
        "<cite>Шутка из интернетов (не шутка)</cite>. [Вот так](https://www.ex-parrot.com/~pdw/Mail-RFC822-Address.html) может выглядеть страшная регулярка.\n"
      ]
    },
    {
      "cell_type": "markdown",
      "metadata": {
        "id": "JOfSwksmwPDw"
      },
      "source": [
        "### Основы синтаксиса регулярных выражений\n",
        "\n",
        "Универсальность и гибкость регулярных выражений заключается в том, что при создании подстроки мы можем использовать так называемые метасимволы, или символы подстановки. Метасимволы используются для замены других символов или их последовательностей. В результате получается не строгая структура подстроки, а своеобразный шаблон, который может быть соотнесён с несколькими вариантами реальных строк.\n",
        "\n",
        "Для освоения даже базовых приёмов работы с регулярными выражениями придётся потратить некоторое время для заучивания метасимволов и отработки навыков по созданию шаблонов. Однако в будущем вы сможете сэкономить гораздо больше времени при написании кода, в котором будут обрабатываться строковые данные.\n",
        "\n",
        "В таблице ниже представлены наиболее важные символы, использующиеся при создании регулярных выражений и примеры их применения."
      ]
    },
    {
      "cell_type": "markdown",
      "metadata": {
        "id": "m-f9dwO1wPDx"
      },
      "source": [
        "<table>\n",
        "<tbody>\n",
        "<tr>\n",
        "<td width=\"10%\"><b>Символ</b></td>\n",
        "<td width=\"50%\"><b>Пояснение</b></td>\n",
        "<td width=\"20%\"><b>Пример выражения</b></td>\n",
        "<td width=\"20%\"><b>Пример строки</b></td>\n",
        "</tr>\n",
        "<tr>\n",
        "<td>.</td>\n",
        "<td>Любой символ</td>\n",
        "<td>...</td>\n",
        "<td>A!#</td>\n",
        "</tr>\n",
        "<tr>\n",
        "<td>*</td>\n",
        "<td>Ноль и более&nbsp;совпадений с выражением, заданным в качестве образца&nbsp;</td>\n",
        "<td>123*</td>\n",
        "<td>123123123</td>\n",
        "</tr>\n",
        "<tr>\n",
        "<td>+</td>\n",
        "<td>Одно и более&nbsp;совпадений с выражением, заданным в качестве образца&nbsp;</td>\n",
        "<td>Ура!+</td>\n",
        "<td>Ура!Ура!</td>\n",
        "</tr>\n",
        "<tr>\n",
        "<td>?</td>\n",
        "<td>Ноль или одно&nbsp;совпадение с выражением, заданным в качестве образца&nbsp;</td>\n",
        "<td>один?</td>\n",
        "<td>один</td>\n",
        "</tr>\n",
        "<tr>\n",
        "<td>[ ]</td>\n",
        "<td>Совпадение с любым из символов, заключённым в скобки</td>\n",
        "<td>[a-z]</td>\n",
        "<td>b</td>\n",
        "</tr>\n",
        "<tr>\n",
        "<td>[^ ]</td>\n",
        "<td>Совпадение с любым из символов, отсутствующим в скобках</td>\n",
        "<td>[^a-z]</td>\n",
        "<td>5</td>\n",
        "</tr>\n",
        "<tr>\n",
        "<td>\\</td>\n",
        "<td>Экранирует специальные символы (т.е. позволяет использовать символы типа \".\", \"*\", \"?\" в роли обычных элементов строки)</td>\n",
        "<td>\\*</td>\n",
        "<td>*</td>\n",
        "</tr>\n",
        "</tbody>\n",
        "</table>"
      ]
    },
    {
      "cell_type": "markdown",
      "metadata": {
        "id": "h7We6ccXPQUL"
      },
      "source": [
        "В приведённой выше таблице отмечены две роли метасимвола `\\`. С одной стороны, данный символ позволяет экранировать метасимволы, благодаря чему мы можем использовать точку, вопросительный знак, квадратные скобки и другие метасимволы по их прямому назначению (т.е. как обычную точку или вопросительный знак). Второе назначение обратного слэша — это сигнал о начале специальной последовательности, с помощью которой можно заменить определённую группу символов. Примеры таких последовательностей представлены в таблице ниже:"
      ]
    },
    {
      "cell_type": "markdown",
      "metadata": {
        "id": "hVqMlffSwPDx"
      },
      "source": [
        "<table>\n",
        "<tbody>\n",
        "<tr>\n",
        "<td width=\"20%\"><b>Последовательность</b></td>\n",
        "<td width=\"60%\"><b>Описание</b></td>\n",
        "<td width=\"20%\"><b>Аналог с []</b></td>\n",
        "</tr>\n",
        "<tr>\n",
        "<td>\\d</td>\n",
        "<td>Любая цифра</td>\n",
        "<td>[0-9]</td>\n",
        "</tr>\n",
        "<tr>\n",
        "<td>\\D</td>\n",
        "<td>Всё что угодно, кроме цифры</td>\n",
        "<td>[^0-9]</td>\n",
        "</tr>\n",
        "<tr>\n",
        "<td>\\s</td>\n",
        "<td>Любой пробельный символ</td>\n",
        "<td>[ \\t\\n\\r\\f\\v]</td>\n",
        "</tr>\n",
        "<tr>\n",
        "<td>\\S</td>\n",
        "<td>Любой непробельный символ</td>\n",
        "<td>[^ \\t\\n\\r\\f\\v]</td>\n",
        "</tr>\n",
        "<tr>\n",
        "<td>\\w</td>\n",
        "<td>Любая буква, цифра, знак подчёркивания</td>\n",
        "<td>[a-zA-Z0-9_]</td>\n",
        "</tr>\n",
        "<tr>\n",
        "<td>\\W</td>\n",
        "<td>Всё что угодно, кроме букв, цифр и знака подчёркивания</td>\n",
        "<td>[^a-zA-Z0-9_]</td>\n",
        "</tr>\n",
        "</tbody>\n",
        "</table>"
      ]
    },
    {
      "cell_type": "markdown",
      "metadata": {
        "id": "LrYMvaQkwPDy"
      },
      "source": [
        "  Квантификатор после символа или группы определяет, сколько раз предшествующее выражение может встречаться.\n",
        "\n",
        "    {n,m}  повторений может быть от n до m включительно.\n",
        "    {n,}   n и более повторений.\n",
        "    {,m}   не более m повторений.\n",
        "    {n}    ровно n повторений"
      ]
    },
    {
      "cell_type": "markdown",
      "metadata": {
        "id": "Lb9ZxknKPy98"
      },
      "source": [
        "Методы и функции, предназначенные для работы с регулярными выражениями, не входят в базовый функционал языка Python. Тем не менее эта проблема легко разрешима. При разработке программ на Python мы можем, помимо использования стандартной библиотеки, подключать дополнительные библиотеки и модули, тем самым расширяя свои возможности по созданию программ. Для Python написано огромное количество модулей и библиотек.\n",
        "\n"
      ]
    },
    {
      "cell_type": "markdown",
      "metadata": {
        "id": "uFTmrU97P8Ns"
      },
      "source": [
        "### Модуль `re`"
      ]
    },
    {
      "cell_type": "markdown",
      "metadata": {
        "id": "YxnBnt4xgdUl"
      },
      "source": [
        "Методы и функции, предназначенные для работы с регулярными выражениями, не входят в базовый функционал языка Python. Тем не менее эта проблема легко разрешима. При разработке программ на Python мы можем, помимо использования стандартной библиотеки, подключать дополнительные [библиотеки и модули](https://t.me/pythontalk_ru/1589), тем самым расширяя свои возможности по созданию программ. Для Python написано огромное количество модулей и библиотек."
      ]
    },
    {
      "cell_type": "markdown",
      "metadata": {
        "id": "3hCGoVBDQBH3"
      },
      "source": [
        "Для работы с регулярными выражениями необходимо подключить дополнительный модуль, который называется `re`. Подключение происходит с помощью команды `import`, после которой необходимо указать имя модуля:\n",
        "\n"
      ]
    },
    {
      "cell_type": "code",
      "execution_count": null,
      "metadata": {
        "id": "PC7bTJjDQCg4"
      },
      "outputs": [],
      "source": [
        "import re"
      ]
    },
    {
      "cell_type": "markdown",
      "metadata": {
        "id": "g9UVYf0QQIWV"
      },
      "source": [
        "После запуска на работу ячейки, содержащей этот код, нам будут доступны все функции и методы для работы с регулярными выражениями.\n",
        "\n",
        "Для вызова функции, которая является частью загруженного модуля, необходимо сначала указать имя модуля, и далее, через точку, указать имя функции."
      ]
    },
    {
      "cell_type": "markdown",
      "metadata": {
        "id": "YqN1c86eQoCx"
      },
      "source": [
        "#### Функция `search`\n",
        "\n",
        "`search(pattern, string)` (англ. «поиск») ищет шаблон `pattern` в строке `string`. Хотя `search()` ищет шаблон во всей строке, возвращает он только первую найденную подстроку:"
      ]
    },
    {
      "cell_type": "code",
      "execution_count": null,
      "metadata": {
        "colab": {
          "base_uri": "https://localhost:8080/"
        },
        "id": "d0rvo12CkYKR",
        "outputId": "52fc7643-49f4-48e8-9350-915a383aa7c0"
      },
      "outputs": [
        {
          "name": "stdout",
          "output_type": "stream",
          "text": [
            "dfjhdfjfdj\n",
            "dfjh'd\"fj\n",
            "dfjdfj\n"
          ]
        }
      ],
      "source": [
        "some_text = '''\n",
        "some_text = \"\"\"dfjhdfjfdj\n",
        "dfjh'd\"fj\n",
        "dfjdfj\"\"\"\n",
        "\n",
        "print(some_text)\n"
      ]
    },
    {
      "cell_type": "code",
      "execution_count": null,
      "metadata": {
        "id": "pZ8ZPlGrQuTH"
      },
      "outputs": [],
      "source": [
        "text = \"\"\"Разработка языка Python была начата в конце 1980-х годов сотрудником голландского института CWI Гвидо ван Россумом.\n",
        "Для распределённой ОС Amoeba требовался расширяемый скриптовый язык, и Гвидо начал писать Python на досуге,\n",
        "позаимствовав некоторые наработки для языка ABC (Гвидо участвовал в разработке этого языка, ориентированного на обучение программированию).\n",
        "В феврале 1991 года Гвидо опубликовал исходный текст в группе новостей alt.sources. Название языка произошло вовсе не от вида пресмыкающихся.\n",
        "Автор назвал язык в честь популярного британского комедийного телешоу 1970-х \"Летающий цирк Монти Пайтона\".\"\"\""
      ]
    },
    {
      "cell_type": "markdown",
      "metadata": {
        "id": "HwmKjsB_RJRJ"
      },
      "source": [
        "Функция `search()` возвращает объект типа `match` (англ. «соответствовать»). Параметр `span` (англ. «диапазон») указывает диапазон индексов, подходящих под шаблон."
      ]
    },
    {
      "cell_type": "code",
      "execution_count": null,
      "metadata": {
        "colab": {
          "base_uri": "https://localhost:8080/"
        },
        "id": "diYfiYFBQ38a",
        "outputId": "24b1e071-ea26-44a2-dc4f-24b2b8168777"
      },
      "outputs": [
        {
          "name": "stdout",
          "output_type": "stream",
          "text": [
            "<re.Match object; span=(0, 10), match='Разработка'>\n"
          ]
        }
      ],
      "source": [
        "res = re.search(\"\\w+\", text)\n",
        "\n",
        "print(res)"
      ]
    },
    {
      "cell_type": "markdown",
      "metadata": {
        "id": "H4cRFH1pQ8sK"
      },
      "source": [
        "\n",
        "\n",
        "Шаблону `\\w+` соответствует любая подстрока, содержащая одну и более букв, цифр или символ подчёркивания. Так как под шаблон не подходит пробел, метод вернул всё, что идёт до первого пробела."
      ]
    },
    {
      "cell_type": "markdown",
      "metadata": {
        "id": "8pP2dJQvRPFD"
      },
      "source": [
        "Если нам не нужны дополнительные сведения о диапазоне, выведем только найденную подстроку методом `group()`:\n"
      ]
    },
    {
      "cell_type": "code",
      "execution_count": null,
      "metadata": {
        "colab": {
          "base_uri": "https://localhost:8080/"
        },
        "id": "aJsnyLU_RRbA",
        "outputId": "4527a20d-5a7c-42c7-fbe9-8794e9057665"
      },
      "outputs": [
        {
          "name": "stdout",
          "output_type": "stream",
          "text": [
            "Разработка\n"
          ]
        }
      ],
      "source": [
        "print(res.group())"
      ]
    },
    {
      "cell_type": "markdown",
      "metadata": {
        "id": "I6Y8y8QTTayx"
      },
      "source": [
        "Можем начало и конец диапазона извлечь как integer:"
      ]
    },
    {
      "cell_type": "code",
      "execution_count": null,
      "metadata": {
        "colab": {
          "base_uri": "https://localhost:8080/"
        },
        "id": "4MGQvGQeTf0W",
        "outputId": "7da542f9-3a4a-46d2-e850-98b2546444d0"
      },
      "outputs": [
        {
          "name": "stdout",
          "output_type": "stream",
          "text": [
            "0\n",
            "10\n"
          ]
        }
      ],
      "source": [
        "print(res.start())\n",
        "print(res.end())"
      ]
    },
    {
      "cell_type": "markdown",
      "metadata": {
        "id": "u6zkCMCmRZx6"
      },
      "source": [
        "Достанем данные, содержащие русские буквы или пробел между символами `\"`"
      ]
    },
    {
      "cell_type": "code",
      "execution_count": null,
      "metadata": {
        "colab": {
          "base_uri": "https://localhost:8080/"
        },
        "id": "4cro8t5ZRdFU",
        "outputId": "a75a6a18-5d5c-4564-a9aa-9583879569bc"
      },
      "outputs": [
        {
          "name": "stdout",
          "output_type": "stream",
          "text": [
            "\"Летающий цирк Монти Пайтона\"\n"
          ]
        }
      ],
      "source": [
        "res = re.search('\"[А-Яа-яЁё ]+\"', text).group()\n",
        "print(res)"
      ]
    },
    {
      "cell_type": "markdown",
      "metadata": {
        "id": "PsLjbJd-Rhnb"
      },
      "source": [
        "Обратите внимание, что мы учли все символы, содержащиеся в нужной подстроке, в том числе — пробел.  \n"
      ]
    },
    {
      "cell_type": "markdown",
      "metadata": {
        "id": "w4m6m5NmSea8"
      },
      "source": [
        "#### Функция `sub`\n",
        "\n",
        "`sub(pattern, repl, string)` (от англ. substring, «подстрока») ищет подстроку `pattern` в строке `string` и заменяет его на подстроку `repl` (от англ. replace — «заменить»)."
      ]
    },
    {
      "cell_type": "markdown",
      "metadata": {
        "id": "fq2RAOdcwPD0"
      },
      "source": [
        "Произведем замену \"Регулярные выражения\" во всех формах на \"regex\""
      ]
    },
    {
      "cell_type": "code",
      "execution_count": null,
      "metadata": {
        "id": "HCekNfNGwPD0"
      },
      "outputs": [],
      "source": [
        "text = \"\"\"Что такое регулярные выражения и как их использовать?\n",
        "Говоря простым языком, регулярное выражение — это последовательность символов, используемая для поиска и замены текста в строке или файле. Как уже было упомянуто,\n",
        "их поддерживает множество языков общего назначения: Python, Perl, R.\n",
        "Так что изучение регулярных выражений рано или поздно пригодится.\"\"\""
      ]
    },
    {
      "cell_type": "code",
      "execution_count": null,
      "metadata": {
        "colab": {
          "base_uri": "https://localhost:8080/"
        },
        "id": "tORUuPGHIA3u",
        "outputId": "c3c53966-1a20-45d5-feef-d42a098d4278"
      },
      "outputs": [
        {
          "name": "stdout",
          "output_type": "stream",
          "text": [
            "Что такое regex и как их использовать?\n",
            "Говоря простым языком, regex — это последовательность символов, используемая для поиска и замены текста в строке или файле. Как уже было упомянуто,\n",
            "их поддерживает множество языков общего назначения: Python, Perl, R.\n",
            "Так что изучение regex рано или поздно пригодится.\n"
          ]
        }
      ],
      "source": [
        "new_text = re.sub(\"[Рр]егулярн[а-я]{2,3} выражен[а-я]{2,4}\", \"regex\", text)\n",
        "\n",
        "print(new_text)"
      ]
    },
    {
      "cell_type": "markdown",
      "metadata": {
        "id": "0EgIDMFQwPD1"
      },
      "source": [
        "Простой способ удалить все служебные символы"
      ]
    },
    {
      "cell_type": "code",
      "execution_count": null,
      "metadata": {
        "colab": {
          "base_uri": "https://localhost:8080/"
        },
        "id": "I8PfgKZVwPD1",
        "outputId": "7bb8f773-cbdc-4d53-95e4-6cc5548cedea"
      },
      "outputs": [
        {
          "name": "stdout",
          "output_type": "stream",
          "text": [
            "Что такое регулярные выражения и как их использовать\n",
            "Говоря простым языком регулярное выражение  это последовательность символов используемая для поиска и замены текста в строке или файле Как уже было упомянуто\n",
            "их поддерживает множество языков общего назначения Python Perl R\n",
            "Так что изучение регулярных выражений рано или поздно пригодится\n"
          ]
        }
      ],
      "source": [
        "text = \"\"\"Что такое регулярные выражения и как их использовать?\n",
        "Говоря простым языком, регулярное выражение — это последовательность символов, используемая для поиска и замены текста в строке или файле. Как уже было упомянуто,\n",
        "их поддерживает множество языков общего назначения: Python, Perl, R.\n",
        "Так что изучение регулярных выражений рано или поздно пригодится.\"\"\"\n",
        "\n",
        "new_text = re.sub(\"[^\\w\\s-]\", \"\", text)\n",
        "print(new_text)"
      ]
    },
    {
      "cell_type": "markdown",
      "metadata": {
        "id": "aOL5iGS9BlF0"
      },
      "source": [
        "## Рекомендуемые материалы\n",
        "\n",
        "1. Подбора бесплатных тренажёров: https://olegtalks.ru/base\n",
        "2. Литература:\n",
        " - А Byte of Python [англ. версия](https://python.swaroopch.com/), [рус. перевод](https://zhekazuev.github.io/byte-of-python-ru/). Легально, бесплатно, без СМС и регистрации.\n",
        " - [Адитья Бхаргава, Грокаем алгоритмы](https://bit.ly/3IWxklj). Бесплатно сами.\n",
        "3. Сервисы для работы с регулярными выражениями:\n",
        "    - [regex101](https://regex101.com/)\n",
        "    - [ihateregex](https://ihateregex.io)\n",
        "4. [Табы или пробелы?](https://t.me/pythontalk_ru/2256)\n",
        "5. [Как выбрать имя переменной?](https://t.me/pythontalk_ru/1802)\n",
        "6. [Почему мой код не работает?](https://t.me/pythontalk_ru/1709)\n",
        "\n"
      ]
    }
  ],
  "metadata": {
    "colab": {
      "provenance": []
    },
    "kernelspec": {
      "display_name": "Python 3",
      "name": "python3"
    },
    "language_info": {
      "codemirror_mode": {
        "name": "ipython",
        "version": 3
      },
      "file_extension": ".py",
      "mimetype": "text/x-python",
      "name": "python",
      "nbconvert_exporter": "python",
      "pygments_lexer": "ipython3",
      "version": "3.12.6"
    }
  },
  "nbformat": 4,
  "nbformat_minor": 0
}
